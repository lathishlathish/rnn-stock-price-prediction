{
  "nbformat": 4,
  "nbformat_minor": 0,
  "metadata": {
    "colab": {
      "provenance": []
    },
    "kernelspec": {
      "name": "python3",
      "display_name": "Python 3"
    },
    "language_info": {
      "name": "python"
    }
  },
  "cells": [
    {
      "cell_type": "code",
      "execution_count": 3,
      "metadata": {
        "id": "enMLob_BYIgt"
      },
      "outputs": [],
      "source": [
        "import numpy as np\n",
        "import matplotlib.pyplot as plt\n",
        "import pandas as pd\n",
        "from sklearn.preprocessing import MinMaxScaler\n",
        "from keras import layers\n",
        "from keras.models import Sequential\n",
        "\n"
      ]
    },
    {
      "cell_type": "code",
      "source": [
        "\n",
        "dataset_train = pd.read_csv('trainset.csv')\n",
        "dataset_train.columns\n",
        "dataset_train.head()\n",
        "train_set = dataset_train.iloc[:,1:2].values\n",
        "type(train_set)\n",
        "train_set.shape"
      ],
      "metadata": {
        "colab": {
          "base_uri": "https://localhost:8080/"
        },
        "id": "Cd5DKhCRZy1d",
        "outputId": "28446ec4-3549-431a-966b-d4753c0e50f0"
      },
      "execution_count": 4,
      "outputs": [
        {
          "output_type": "execute_result",
          "data": {
            "text/plain": [
              "(1259, 1)"
            ]
          },
          "metadata": {},
          "execution_count": 4
        }
      ]
    },
    {
      "cell_type": "code",
      "source": [
        "sc = MinMaxScaler(feature_range=(0,1))\n",
        "training_set_scaled = sc.fit_transform(train_set)\n",
        "training_set_scaled.shape\n"
      ],
      "metadata": {
        "colab": {
          "base_uri": "https://localhost:8080/"
        },
        "id": "4DQGpTZeZ2xg",
        "outputId": "d9c7e6b8-5796-449f-a9d2-3bb6d297cb15"
      },
      "execution_count": 5,
      "outputs": [
        {
          "output_type": "execute_result",
          "data": {
            "text/plain": [
              "(1259, 1)"
            ]
          },
          "metadata": {},
          "execution_count": 5
        }
      ]
    },
    {
      "cell_type": "code",
      "source": [
        "X_train_array = []\n",
        "y_train_array = []\n",
        "for i in range(60, 1259):\n",
        "  X_train_array.append(training_set_scaled[i-60:i,0])\n",
        "  y_train_array.append(training_set_scaled[i,0])\n",
        "X_train, y_train = np.array(X_train_array), np.array(y_train_array)\n",
        "X_train1 = X_train.reshape((X_train.shape[0], X_train.shape[1],1))\n"
      ],
      "metadata": {
        "id": "owTzTBh-aJbA"
      },
      "execution_count": 6,
      "outputs": []
    },
    {
      "cell_type": "code",
      "source": [
        "\n",
        "X_train.shape\n",
        "length = 60\n",
        "n_features = 1\n"
      ],
      "metadata": {
        "id": "hv7yuHkzaKdo"
      },
      "execution_count": 7,
      "outputs": []
    },
    {
      "cell_type": "code",
      "source": [
        "model = Sequential()\n",
        "model.add(layers.SimpleRNN(50,input_shape=(length,n_features)))\n",
        "model.add(layers.Dense(1))\n",
        "\n",
        "model.compile(optimizer='adam', loss='mse')\n",
        "\n",
        "print(\"Name:LATHISH KANNA.M||Register Number: 212222230073        \")\n",
        "model.summary()\n",
        "\n",
        "model.fit(X_train1,y_train,epochs=100, batch_size=32)\n",
        "\n",
        "dataset_test = pd.read_csv('testset.csv')\n",
        "test_set = dataset_test.iloc[:,1:2].values\n",
        "test_set.shape\n",
        "dataset_total = pd.concat((dataset_train['Open'],dataset_test['Open']),axis=0)\n"
      ],
      "metadata": {
        "colab": {
          "base_uri": "https://localhost:8080/"
        },
        "id": "0z8vxY3VahUX",
        "outputId": "be3fe3bb-a64f-48ce-a2ea-1e6749695327"
      },
      "execution_count": 11,
      "outputs": [
        {
          "output_type": "stream",
          "name": "stdout",
          "text": [
            "Name:LATHISH KANNA.M||Register Number: 212222230073        \n",
            "Model: \"sequential_3\"\n",
            "_________________________________________________________________\n",
            " Layer (type)                Output Shape              Param #   \n",
            "=================================================================\n",
            " simple_rnn_3 (SimpleRNN)    (None, 50)                2600      \n",
            "                                                                 \n",
            " dense_3 (Dense)             (None, 1)                 51        \n",
            "                                                                 \n",
            "=================================================================\n",
            "Total params: 2651 (10.36 KB)\n",
            "Trainable params: 2651 (10.36 KB)\n",
            "Non-trainable params: 0 (0.00 Byte)\n",
            "_________________________________________________________________\n",
            "Epoch 1/100\n",
            "38/38 [==============================] - 2s 13ms/step - loss: 0.0168\n",
            "Epoch 2/100\n",
            "38/38 [==============================] - 0s 11ms/step - loss: 9.4393e-04\n",
            "Epoch 3/100\n",
            "38/38 [==============================] - 1s 19ms/step - loss: 7.7594e-04\n",
            "Epoch 4/100\n",
            "38/38 [==============================] - 1s 20ms/step - loss: 7.4695e-04\n",
            "Epoch 5/100\n",
            "38/38 [==============================] - 1s 18ms/step - loss: 6.0100e-04\n",
            "Epoch 6/100\n",
            "38/38 [==============================] - 1s 16ms/step - loss: 6.4201e-04\n",
            "Epoch 7/100\n",
            "38/38 [==============================] - 1s 18ms/step - loss: 5.8675e-04\n",
            "Epoch 8/100\n",
            "38/38 [==============================] - 1s 20ms/step - loss: 6.0913e-04\n",
            "Epoch 9/100\n",
            "38/38 [==============================] - 1s 13ms/step - loss: 4.9228e-04\n",
            "Epoch 10/100\n",
            "38/38 [==============================] - 0s 12ms/step - loss: 5.5512e-04\n",
            "Epoch 11/100\n",
            "38/38 [==============================] - 0s 12ms/step - loss: 4.1772e-04\n",
            "Epoch 12/100\n",
            "38/38 [==============================] - 0s 11ms/step - loss: 4.9501e-04\n",
            "Epoch 13/100\n",
            "38/38 [==============================] - 0s 12ms/step - loss: 5.6867e-04\n",
            "Epoch 14/100\n",
            "38/38 [==============================] - 0s 11ms/step - loss: 3.8455e-04\n",
            "Epoch 15/100\n",
            "38/38 [==============================] - 0s 11ms/step - loss: 3.7005e-04\n",
            "Epoch 16/100\n",
            "38/38 [==============================] - 0s 11ms/step - loss: 3.7662e-04\n",
            "Epoch 17/100\n",
            "38/38 [==============================] - 0s 11ms/step - loss: 3.4996e-04\n",
            "Epoch 18/100\n",
            "38/38 [==============================] - 0s 11ms/step - loss: 3.6048e-04\n",
            "Epoch 19/100\n",
            "38/38 [==============================] - 0s 10ms/step - loss: 3.5531e-04\n",
            "Epoch 20/100\n",
            "38/38 [==============================] - 0s 11ms/step - loss: 4.0726e-04\n",
            "Epoch 21/100\n",
            "38/38 [==============================] - 0s 11ms/step - loss: 3.6005e-04\n",
            "Epoch 22/100\n",
            "38/38 [==============================] - 0s 10ms/step - loss: 3.1521e-04\n",
            "Epoch 23/100\n",
            "38/38 [==============================] - 0s 11ms/step - loss: 2.9938e-04\n",
            "Epoch 24/100\n",
            "38/38 [==============================] - 0s 12ms/step - loss: 3.2804e-04\n",
            "Epoch 25/100\n",
            "38/38 [==============================] - 0s 12ms/step - loss: 2.8855e-04\n",
            "Epoch 26/100\n",
            "38/38 [==============================] - 0s 12ms/step - loss: 3.0627e-04\n",
            "Epoch 27/100\n",
            "38/38 [==============================] - 0s 12ms/step - loss: 3.0217e-04\n",
            "Epoch 28/100\n",
            "38/38 [==============================] - 0s 13ms/step - loss: 2.9165e-04\n",
            "Epoch 29/100\n",
            "38/38 [==============================] - 0s 12ms/step - loss: 2.8161e-04\n",
            "Epoch 30/100\n",
            "38/38 [==============================] - 0s 13ms/step - loss: 2.9893e-04\n",
            "Epoch 31/100\n",
            "38/38 [==============================] - 1s 14ms/step - loss: 2.8043e-04\n",
            "Epoch 32/100\n",
            "38/38 [==============================] - 1s 18ms/step - loss: 2.5123e-04\n",
            "Epoch 33/100\n",
            "38/38 [==============================] - 1s 19ms/step - loss: 2.5101e-04\n",
            "Epoch 34/100\n",
            "38/38 [==============================] - 1s 18ms/step - loss: 2.6651e-04\n",
            "Epoch 35/100\n",
            "38/38 [==============================] - 1s 17ms/step - loss: 3.1363e-04\n",
            "Epoch 36/100\n",
            "38/38 [==============================] - 1s 18ms/step - loss: 2.5058e-04\n",
            "Epoch 37/100\n",
            "38/38 [==============================] - 1s 18ms/step - loss: 2.6001e-04\n",
            "Epoch 38/100\n",
            "38/38 [==============================] - 0s 12ms/step - loss: 2.6690e-04\n",
            "Epoch 39/100\n",
            "38/38 [==============================] - 0s 12ms/step - loss: 2.6645e-04\n",
            "Epoch 40/100\n",
            "38/38 [==============================] - 0s 12ms/step - loss: 2.6037e-04\n",
            "Epoch 41/100\n",
            "38/38 [==============================] - 0s 11ms/step - loss: 2.2962e-04\n",
            "Epoch 42/100\n",
            "38/38 [==============================] - 0s 11ms/step - loss: 2.4339e-04\n",
            "Epoch 43/100\n",
            "38/38 [==============================] - 0s 11ms/step - loss: 2.7558e-04\n",
            "Epoch 44/100\n",
            "38/38 [==============================] - 0s 11ms/step - loss: 2.2049e-04\n",
            "Epoch 45/100\n",
            "38/38 [==============================] - 0s 12ms/step - loss: 2.5983e-04\n",
            "Epoch 46/100\n",
            "38/38 [==============================] - 0s 12ms/step - loss: 2.6005e-04\n",
            "Epoch 47/100\n",
            "38/38 [==============================] - 0s 12ms/step - loss: 2.5696e-04\n",
            "Epoch 48/100\n",
            "38/38 [==============================] - 0s 12ms/step - loss: 2.1934e-04\n",
            "Epoch 49/100\n",
            "38/38 [==============================] - 0s 12ms/step - loss: 2.3145e-04\n",
            "Epoch 50/100\n",
            "38/38 [==============================] - 0s 13ms/step - loss: 2.3379e-04\n",
            "Epoch 51/100\n",
            "38/38 [==============================] - 0s 12ms/step - loss: 2.2092e-04\n",
            "Epoch 52/100\n",
            "38/38 [==============================] - 0s 12ms/step - loss: 2.5273e-04\n",
            "Epoch 53/100\n",
            "38/38 [==============================] - 0s 11ms/step - loss: 2.2165e-04\n",
            "Epoch 54/100\n",
            "38/38 [==============================] - 0s 12ms/step - loss: 2.0820e-04\n",
            "Epoch 55/100\n",
            "38/38 [==============================] - 0s 12ms/step - loss: 2.2197e-04\n",
            "Epoch 56/100\n",
            "38/38 [==============================] - 0s 12ms/step - loss: 2.3714e-04\n",
            "Epoch 57/100\n",
            "38/38 [==============================] - 0s 13ms/step - loss: 2.8204e-04\n",
            "Epoch 58/100\n",
            "38/38 [==============================] - 0s 12ms/step - loss: 2.5261e-04\n",
            "Epoch 59/100\n",
            "38/38 [==============================] - 0s 12ms/step - loss: 2.1157e-04\n",
            "Epoch 60/100\n",
            "38/38 [==============================] - 1s 19ms/step - loss: 1.9419e-04\n",
            "Epoch 61/100\n",
            "38/38 [==============================] - 1s 18ms/step - loss: 2.0679e-04\n",
            "Epoch 62/100\n",
            "38/38 [==============================] - 1s 19ms/step - loss: 1.9576e-04\n",
            "Epoch 63/100\n",
            "38/38 [==============================] - 1s 19ms/step - loss: 1.9044e-04\n",
            "Epoch 64/100\n",
            "38/38 [==============================] - 1s 20ms/step - loss: 1.9859e-04\n",
            "Epoch 65/100\n",
            "38/38 [==============================] - 1s 19ms/step - loss: 2.1556e-04\n",
            "Epoch 66/100\n",
            "38/38 [==============================] - 0s 12ms/step - loss: 2.2716e-04\n",
            "Epoch 67/100\n",
            "38/38 [==============================] - 0s 12ms/step - loss: 1.9257e-04\n",
            "Epoch 68/100\n",
            "38/38 [==============================] - 0s 11ms/step - loss: 2.2253e-04\n",
            "Epoch 69/100\n",
            "38/38 [==============================] - 0s 11ms/step - loss: 2.3759e-04\n",
            "Epoch 70/100\n",
            "38/38 [==============================] - 0s 12ms/step - loss: 1.9825e-04\n",
            "Epoch 71/100\n",
            "38/38 [==============================] - 0s 12ms/step - loss: 2.1369e-04\n",
            "Epoch 72/100\n",
            "38/38 [==============================] - 0s 13ms/step - loss: 2.1419e-04\n",
            "Epoch 73/100\n",
            "38/38 [==============================] - 0s 13ms/step - loss: 2.1709e-04\n",
            "Epoch 74/100\n",
            "38/38 [==============================] - 0s 12ms/step - loss: 1.8731e-04\n",
            "Epoch 75/100\n",
            "38/38 [==============================] - 1s 22ms/step - loss: 1.8931e-04\n",
            "Epoch 76/100\n",
            "38/38 [==============================] - 1s 20ms/step - loss: 2.1805e-04\n",
            "Epoch 77/100\n",
            "38/38 [==============================] - 1s 28ms/step - loss: 1.8949e-04\n",
            "Epoch 78/100\n",
            "38/38 [==============================] - 1s 27ms/step - loss: 1.9560e-04\n",
            "Epoch 79/100\n",
            "38/38 [==============================] - 1s 27ms/step - loss: 1.8945e-04\n",
            "Epoch 80/100\n",
            "38/38 [==============================] - 1s 18ms/step - loss: 1.8945e-04\n",
            "Epoch 81/100\n",
            "38/38 [==============================] - 0s 13ms/step - loss: 1.8354e-04\n",
            "Epoch 82/100\n",
            "38/38 [==============================] - 1s 17ms/step - loss: 1.9285e-04\n",
            "Epoch 83/100\n",
            "38/38 [==============================] - 1s 18ms/step - loss: 1.7782e-04\n",
            "Epoch 84/100\n",
            "38/38 [==============================] - 1s 20ms/step - loss: 1.7488e-04\n",
            "Epoch 85/100\n",
            "38/38 [==============================] - 1s 19ms/step - loss: 1.8748e-04\n",
            "Epoch 86/100\n",
            "38/38 [==============================] - 1s 20ms/step - loss: 1.7195e-04\n",
            "Epoch 87/100\n",
            "38/38 [==============================] - 1s 17ms/step - loss: 2.0123e-04\n",
            "Epoch 88/100\n",
            "38/38 [==============================] - 0s 11ms/step - loss: 2.0566e-04\n",
            "Epoch 89/100\n",
            "38/38 [==============================] - 0s 11ms/step - loss: 1.7096e-04\n",
            "Epoch 90/100\n",
            "38/38 [==============================] - 0s 12ms/step - loss: 1.7987e-04\n",
            "Epoch 91/100\n",
            "38/38 [==============================] - 0s 12ms/step - loss: 1.8282e-04\n",
            "Epoch 92/100\n",
            "38/38 [==============================] - 0s 12ms/step - loss: 1.6916e-04\n",
            "Epoch 93/100\n",
            "38/38 [==============================] - 0s 12ms/step - loss: 2.0068e-04\n",
            "Epoch 94/100\n",
            "38/38 [==============================] - 0s 12ms/step - loss: 1.8223e-04\n",
            "Epoch 95/100\n",
            "38/38 [==============================] - 0s 12ms/step - loss: 1.7721e-04\n",
            "Epoch 96/100\n",
            "38/38 [==============================] - 0s 12ms/step - loss: 1.6898e-04\n",
            "Epoch 97/100\n",
            "38/38 [==============================] - 0s 11ms/step - loss: 1.7586e-04\n",
            "Epoch 98/100\n",
            "38/38 [==============================] - 0s 11ms/step - loss: 1.9501e-04\n",
            "Epoch 99/100\n",
            "38/38 [==============================] - 0s 11ms/step - loss: 1.7108e-04\n",
            "Epoch 100/100\n",
            "38/38 [==============================] - 0s 11ms/step - loss: 1.7363e-04\n"
          ]
        }
      ]
    },
    {
      "cell_type": "code",
      "source": [
        "inputs = dataset_total.values\n",
        "inputs = inputs.reshape(-1,1)\n",
        "inputs_scaled=sc.transform(inputs)\n",
        "X_test = []\n",
        "for i in range(60,1384):\n",
        "  X_test.append(inputs_scaled[i-60:i,0])\n",
        "X_test = np.array(X_test)\n",
        "X_test = np.reshape(X_test,(X_test.shape[0], X_test.shape[1],1))"
      ],
      "metadata": {
        "id": "4MrHrR5abPJs"
      },
      "execution_count": 13,
      "outputs": []
    },
    {
      "cell_type": "code",
      "source": [
        "X_test.shape\n",
        "predicted_stock_price_scaled = model.predict(X_test)\n",
        "predicted_stock_price = sc.inverse_transform(predicted_stock_price_scaled)\n",
        "\n",
        "print(\"Name:LATHIS KANNA.M||Register Number: 212222230073 \")\n",
        "plt.plot(np.arange(0,1384),inputs, color='red', label = 'Test(Real) Google stock price')\n",
        "plt.plot(np.arange(60,1384),predicted_stock_price, color='blue', label = 'Predicted Google stock price')\n",
        "plt.title('Google Stock Price Prediction')\n",
        "plt.xlabel('Time')\n",
        "plt.ylabel('Google Stock Price')\n",
        "plt.legend()\n",
        "plt.show()"
      ],
      "metadata": {
        "colab": {
          "base_uri": "https://localhost:8080/",
          "height": 508
        },
        "id": "SZAb9tHXbRJC",
        "outputId": "3878fb26-2fa2-4c07-f81a-7f30803c255e"
      },
      "execution_count": 14,
      "outputs": [
        {
          "output_type": "stream",
          "name": "stdout",
          "text": [
            "42/42 [==============================] - 0s 5ms/step\n",
            "Name:LATHIS KANNA.M||Register Number: 212222230073 \n"
          ]
        },
        {
          "output_type": "display_data",
          "data": {
            "text/plain": [
              "<Figure size 640x480 with 1 Axes>"
            ],
            "image/png": "[encoded data removed]"
          },
          "metadata": {}
        }
      ]
    },
    {
      "cell_type": "code",
      "source": [],
      "metadata": {
        "id": "SIUHr5ljb5x4"
      },
      "execution_count": null,
      "outputs": []
    }
  ]
}